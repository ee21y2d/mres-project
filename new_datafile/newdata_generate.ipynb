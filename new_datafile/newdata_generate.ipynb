{
 "cells": [
  {
   "cell_type": "code",
   "execution_count": 1,
   "id": "394f8c04-ed28-4de7-99ec-3fb766e037b7",
   "metadata": {},
   "outputs": [],
   "source": [
    "# Import packages\n",
    "\n",
    "import numpy as np\n",
    "import matplotlib.pyplot as plt\n",
    "from netCDF4 import Dataset\n",
    "from matplotlib import colors\n",
    "import cartopy.crs as ccrs\n",
    "import datetime as dt\n",
    "import glob, os, sys\n",
    "from matplotlib import animation\n",
    "import matplotlib.path as mpath\n",
    "import cartopy.feature as cfeature\n",
    "import re\n",
    "import os\n",
    "import pandas as pd\n",
    "import seaborn as sns\n",
    "import math\n",
    "import netCDF4 as nc"
   ]
  },
  {
   "cell_type": "code",
   "execution_count": 2,
   "id": "652ebfeb-cb3b-4c74-8a8e-e6bce2307975",
   "metadata": {},
   "outputs": [],
   "source": [
    "base_path = '/gws/nopw/j04/asci/yixin/ftp.archive.arm.gov/dingy1/'# the path contains all instrument measurement \n",
    "\n",
    "# set empty list and dictionary\n",
    "filelist = []\n",
    "filedic = {}\n",
    "numdic={}\n",
    "\n",
    "#define time period\n",
    "begin = 20161020\n",
    "end = 20170224\n",
    "\n",
    "#Reads the list of files and folders in the specified path\n",
    "second_path = os.listdir(base_path)\n",
    "for second in second_path:\n",
    "    if '.' not in second:\n",
    "        filedir = os.path.join(base_path,second)\n",
    "        files = os.listdir(filedir)\n",
    "        \n",
    "        # use regular expressions to find number string indicate the measurment date\n",
    "        for file in files:\n",
    "            find_number = re.compile(\"\\d{8}\") \n",
    "            number = re.findall(find_number,file)\n",
    "            \n",
    "            # compare number string with target time period \n",
    "            if number:\n",
    "                number = number[0]                \n",
    "                if begin<=int(number)<=end and not filedic.get(file, False) and not numdic.get(number, False) :\n",
    "                    filelist.append(os.path.join(filedir,file))\n",
    "                    "
   ]
  },
  {
   "cell_type": "code",
   "execution_count": 3,
   "id": "e0ebd97b-122f-4980-bb3d-efc9cc7daace",
   "metadata": {},
   "outputs": [
    {
     "name": "stdout",
     "output_type": "stream",
     "text": [
      "wacr size is 145\n",
      "/gws/nopw/j04/asci/yixin/ftp.archive.arm.gov/dingy1/229920/asiarsclwacr1kolliasM1.c1.20161020.190000.custom.nc /gws/nopw/j04/asci/yixin/ftp.archive.arm.gov/dingy1/229920/asiarsclwacr1kolliasM1.c1.20170224.000000.custom.nc\n"
     ]
    }
   ],
   "source": [
    "# set empty list\n",
    "wacr_list = []\n",
    "# use loop to append the file of target VAP\n",
    "for i in filelist:\n",
    "    if 'asiarsclwacr1kolliasM1'in i:\n",
    "        wacr_list.append(i)\n",
    "        \n",
    "wacr_list.sort() # sort in date order\n",
    "print('wacr size is',len(wacr_list))\n",
    "print(wacr_list[0],wacr_list[-1]) #print first and last datafile to check the measurment time"
   ]
  },
  {
   "cell_type": "code",
   "execution_count": 37,
   "id": "9009b5dd-deae-4019-a572-46d5bd2ddba1",
   "metadata": {},
   "outputs": [],
   "source": [
    "# make empty arrays\n",
    "wacr_ref,wacr_time= np.array([]),np.array([])\n",
    "\n",
    "for f in wacr_list:\n",
    "    \n",
    "    nc_wacr = Dataset(f,'r')\n",
    "\n",
    "    ref = nc_wacr.variables['reflectivity_best_estimate'][:]\n",
    "    height = nc_wacr.variables['height'][:] # indicate the each layer height of reflectivity measurement\n",
    "    cloud = nc_wacr.variables['cloud_base_best_estimate'][:]\n",
    "    cloud_qc = nc_wacr.variables['qc_cloud_base_best_estimate'][:]\n",
    "    wacr_data_time,time_unit=nc_wacr.variables['time'][:],nc_wacr.variables['time'].units\n",
    "    data_time=nc.num2date(wacr_data_time,units=time_unit) # Convert the time format\n",
    "\n",
    "    # extract data with good quality \n",
    "    cloud_base = cloud[(cloud_qc==0) & (cloud<=10000)]\n",
    "    data_time = data_time[(cloud_qc==0) & (cloud<=10000)]\n",
    "    ref = ref[(cloud_qc==0) & (cloud<=10000)]\n",
    "\n",
    "    # make empty list to store the reflectivity measurement height corresponding to the cloud base height\n",
    "    index=list()\n",
    "    # Look for cloud base heights to fall within which range of reflectivity measurement heights, and append this measurement heights index\n",
    "    for i in np.arange(cloud_base.shape[0]):\n",
    "        for j in np.arange(len(height)):\n",
    "            if cloud_base[i]>=height[j] and cloud_base[i]<height[j+1]:\n",
    "                index.append(j)\n",
    "                \n",
    "    # according to the reflectivity measurement height index, take slice of reflectivity\n",
    "    for i in np.arange(len(index)):\n",
    "        ref_slice=ref[:,index[i]]\n",
    "        \n",
    "    #append time and slice of reflectivity array\n",
    "    wacr_ref = np.append(wacr_ref,ref_slice)\n",
    "    wacr_time= np.append(wacr_time,data_time)\n",
    "    \n"
   ]
  },
  {
   "cell_type": "code",
   "execution_count": 49,
   "id": "22682ff8-90c5-46d7-8d05-766908d2cd5b",
   "metadata": {},
   "outputs": [
    {
     "name": "stdout",
     "output_type": "stream",
     "text": [
      "(2299778,)\n",
      "(2299778,)\n"
     ]
    }
   ],
   "source": [
    "print(wacr_ref.shape)\n",
    "print(wacr_time.shape)"
   ]
  },
  {
   "cell_type": "code",
   "execution_count": 50,
   "id": "94d6a7bb-2879-49f2-91be-19a632110e5a",
   "metadata": {},
   "outputs": [],
   "source": [
    "# Combine time and refliectivety data \n",
    "ref_array=np.stack((wacr_time, wacr_ref), axis=1) \n",
    "# Convert NumPy Array to Pandas DataFrame\n",
    "ref_df = pd.DataFrame(ref_array)\n",
    "# define the colums name\n",
    "ref_df.columns = ['time','ref']\n",
    "# delete bad data\n",
    "ref_df = ref_df.drop(ref_df[(ref_df['ref']== -9999.0)].index,axis = 0)\n",
    "# Store the data in a new CSV file\n",
    "ref_df.to_csv(\"time_ref_full.csv\",index=False,sep=',')\n"
   ]
  }
 ],
 "metadata": {
  "kernelspec": {
   "display_name": "Python 3 + Jaspy",
   "language": "python",
   "name": "jaspy"
  },
  "language_info": {
   "codemirror_mode": {
    "name": "ipython",
    "version": 3
   },
   "file_extension": ".py",
   "mimetype": "text/x-python",
   "name": "python",
   "nbconvert_exporter": "python",
   "pygments_lexer": "ipython3",
   "version": "3.8.12"
  }
 },
 "nbformat": 4,
 "nbformat_minor": 5
}
